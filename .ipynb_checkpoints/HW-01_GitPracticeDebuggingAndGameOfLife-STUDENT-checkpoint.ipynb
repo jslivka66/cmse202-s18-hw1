{
 "cells": [
  {
   "cell_type": "markdown",
   "metadata": {},
   "source": [
    "### <p style=\"text-align: right;\"> &#9989; Joseph Slivka .</p>"
   ]
  },
  {
   "cell_type": "markdown",
   "metadata": {},
   "source": [
    "# Homework Assignment #1 (Individual)\n",
    "## Git Practice, Debugging Practice, and Modeling Conway's Game of Life\n",
    "\n",
    "<img src=\"https://upload.wikimedia.org/wikipedia/commons/e/e5/Gospers_glider_gun.gif\", width= 300><p style=\"text-align: right;\">\n",
    "</p>"
   ]
  },
  {
   "cell_type": "markdown",
   "metadata": {},
   "source": [
    "### Goals for this homework assignment\n",
    "By the end of this assignment, you should be able to:\n",
    "* Use Git to create a repository, track changes to the files within the repository, and push those changes to a remote repository.\n",
    "* Debug code and implement exception handling in Python.\n",
    "* Work with Python data structures (e.g. lists and numpy arrays) to create a simple agent-based model.\n",
    "* Make plots of your model using <code>matplotlib</code>.\n",
    "\n",
    "### Assignment instructions\n",
    "\n",
    "Work through the following assignment, making sure to follow all of the directions and answer all of the questions.\n",
    "\n",
    "**This assignment is due roughly two weeks from now at 11:59pm on Friday, January 26th.** It should be uploaded into the \"Homework Assignments\" dropbox folder for Homework #1.  Submission instructions can be found at the end of the notebook.\n",
    "\n",
    "### Grading\n",
    "\n",
    "1. Part 1: Setting and managing a Git repository (5 points)\n",
    "2. Part 2: Debugging code and exception handling (8 points)\n",
    "3. Part 3: Conway's Game of Life (12 points)\n",
    "\n",
    "Total points: **25**"
   ]
  },
  {
   "cell_type": "markdown",
   "metadata": {},
   "source": [
    "---\n",
    "## Part 1: Setting up a git repository to track your progress on your assignment (5 points)\n",
    "\n",
    "For this assignment, you're going to create a Git repository on GitHub so that you can track your progress on the assignment and preserve the final version that you turn in. In order to do this you need to:\n",
    "\n",
    "1. Set up a new *private* repository on https://github.com/ called \"cmse202-s18-hw1\".\n",
    "2. Add your Professor and your TA as collaborators with \"Read\" access to your repository so that we can see your assignment. For Section 001, you should add users \"devinsilvia\" and \"haoyunin\". For Section 002, you should add users \"yangy5\" and \"haoyunin\".\n",
    "3. Clone the repository on to your computer.\n",
    "4. Move this notebook into that newly cloned repository.\n",
    "5. Add the notebook file to your git repository.\n",
    "6. Commit the addition to your repository.\n",
    "7. Finally, to test that everything is working, \"git push\" the file so that it ends up in your GitHub repository.\n",
    "\n",
    "If everything went as intended, the file should now show up on your GitHub account in the \"cmse202-hw1\" repository that you just created.  Periodically, you'll be asked to commit your changes to the repository and push them to the remote GitHub location. Of course, you can always commit your changes more often than that, if you wish.  It can be good to get into a habit of committing your changes any time you make a significant modification, or when you stop working on the project for a bit."
   ]
  },
  {
   "cell_type": "markdown",
   "metadata": {},
   "source": [
    "---\n",
    "\n",
    "---\n",
    "\n",
    "## Part 2: Debugging code: understanding error messages and exception handling (8 points)\n",
    "\n",
    "For the next part of this assignment, you're going to presented with a variety of code bugs and your job is to fix them. You'll also be asked to set up a bit of code that makes use of exception handling in Python."
   ]
  },
  {
   "cell_type": "markdown",
   "metadata": {},
   "source": [
    "### 2.1 Fixing errors (6 points)\n",
    "\n",
    "**Homework Task 1**: Resolve the errors in the following pieces of code and add a comment that explains what was wrong in the first place."
   ]
  },
  {
   "cell_type": "code",
   "execution_count": 1,
   "metadata": {
    "scrolled": true
   },
   "outputs": [
    {
     "name": "stdout",
     "output_type": "stream",
     "text": [
      "The value of i is 0\n",
      "The value of i is 1\n",
      "The value of i is 2\n",
      "The value of i is 3\n",
      "The value of i is 4\n",
      "The value of i is 5\n",
      "The value of i is 6\n",
      "The value of i is 7\n",
      "The value of i is 8\n",
      "The value of i is 9\n"
     ]
    }
   ],
   "source": [
    "for i in range(10):\n",
    "    print(\"The value of i is %i\" %i)"
   ]
  },
  {
   "cell_type": "markdown",
   "metadata": {},
   "source": [
    "There was no colon after range(10)"
   ]
  },
  {
   "cell_type": "code",
   "execution_count": 2,
   "metadata": {},
   "outputs": [
    {
     "name": "stdout",
     "output_type": "stream",
     "text": [
      "The value of the fraction is 5000.000000\n"
     ]
    }
   ],
   "source": [
    "def compute_fraction(numerator, denominator):\n",
    "    fraction = numerator/denominator\n",
    "    print(\"The value of the fraction is %f\" %fraction)\n",
    "    \n",
    "compute_fraction(5, 0.001)"
   ]
  },
  {
   "cell_type": "markdown",
   "metadata": {},
   "source": [
    "There is a division by zero in the function"
   ]
  },
  {
   "cell_type": "code",
   "execution_count": 3,
   "metadata": {},
   "outputs": [
    {
     "name": "stdout",
     "output_type": "stream",
     "text": [
      "The value of the fraction is 0.040000\n"
     ]
    }
   ],
   "source": [
    "def compute_fraction(numerator, denominator):\n",
    "    fraction = numerator/denominator\n",
    "    print(\"The value of the fraction is %f\" %fraction)\n",
    "    \n",
    "compute_fraction(1, 25)"
   ]
  },
  {
   "cell_type": "markdown",
   "metadata": {},
   "source": [
    "Write \"one\" which is a string and should be an integer 1"
   ]
  },
  {
   "cell_type": "code",
   "execution_count": 4,
   "metadata": {},
   "outputs": [
    {
     "name": "stdout",
     "output_type": "stream",
     "text": [
      "The value of the 10th element is 9\n"
     ]
    }
   ],
   "source": [
    "import numpy as np\n",
    "\n",
    "n = np.arange(20)\n",
    "print(\"The value of the 10th element is %d\" %n[9])"
   ]
  },
  {
   "cell_type": "markdown",
   "metadata": {},
   "source": [
    "it should be the element of so n[9] instead of n(9)"
   ]
  },
  {
   "cell_type": "code",
   "execution_count": 5,
   "metadata": {},
   "outputs": [
    {
     "name": "stdout",
     "output_type": "stream",
     "text": [
      "1\n",
      "3\n",
      "5\n",
      "7\n",
      "9\n",
      "2\n",
      "4\n",
      "6\n",
      "8\n",
      "10\n"
     ]
    }
   ],
   "source": [
    "odd = [1, 3, 5, 7, 9]\n",
    "even = [2, 4, 6, 8, 10]\n",
    "\n",
    "for i in odd:\n",
    "    print(i)\n",
    "    \n",
    "for j in even:\n",
    "    print(j)"
   ]
  },
  {
   "cell_type": "markdown",
   "metadata": {},
   "source": [
    "Changed evven to even"
   ]
  },
  {
   "cell_type": "code",
   "execution_count": 6,
   "metadata": {},
   "outputs": [
    {
     "name": "stdout",
     "output_type": "stream",
     "text": [
      "hola\n",
      "uno dos tres\n",
      "verde\n"
     ]
    }
   ],
   "source": [
    "spanish = dict()\n",
    "spanish['hello'] = 'hola'\n",
    "spanish['yes'] = 'si'\n",
    "spanish['one'] = 'uno'\n",
    "spanish['two'] = 'dos'\n",
    "spanish['three'] = 'tres'\n",
    "spanish['red'] = 'rojo'\n",
    "spanish['black'] = 'negro'\n",
    "spanish['green'] = 'verde'\n",
    "spanish['blue'] = 'azul'\n",
    "\n",
    "print(spanish[\"hello\"])\n",
    "print(spanish[\"one\"], spanish[\"two\"], spanish[\"three\"])\n",
    "print(spanish[\"green\"])"
   ]
  },
  {
   "cell_type": "markdown",
   "metadata": {},
   "source": [
    "Orange is not defined in the dictionary. Either define orange in the dictionary or use a string that is defined"
   ]
  },
  {
   "cell_type": "markdown",
   "metadata": {},
   "source": [
    "---\n",
    "### STOP\n",
    "Take a moment to save your notebook, commit the changes to your Git repository using the commit message \"Finished Part 2.1\", and push the changes to GitHub.\n",
    "\n",
    "---"
   ]
  },
  {
   "cell_type": "markdown",
   "metadata": {},
   "source": [
    "### 2.2 Exception Handling (2 points)\n",
    "\n",
    "In the code below, you'll see an example of exception handling in Python. In the example, we have a function that creates a spanish translation dictionary using a Python dictionary object. Then, we ask the user what would they would like to know in spanish. That word is passed to the dictionary inside a \"try/except\" structure. If the word is in the dictionary, then the translation is printed, otherwise a message that the word is not found in the dictionary is printed. Try running the code! "
   ]
  },
  {
   "cell_type": "code",
   "execution_count": 7,
   "metadata": {},
   "outputs": [
    {
     "name": "stdout",
     "output_type": "stream",
     "text": [
      "What word do you what to know in spanish?  list\n",
      "Oh, sorry, that word is not in this spanish dictionary. Try another one!\n"
     ]
    }
   ],
   "source": [
    "def createDictionary():\n",
    "    '''Returns a tiny Spanish dictionary'''\n",
    "    spanish = dict()\n",
    "    spanish['hello'] = 'hola'\n",
    "    spanish['yes'] = 'si'\n",
    "    spanish['one'] = 'uno'\n",
    "    spanish['two'] = 'dos'\n",
    "    spanish['three'] = 'tres'\n",
    "    spanish['red'] = 'rojo'\n",
    "    spanish['black'] = 'negro'\n",
    "    spanish['green'] = 'verde'\n",
    "    spanish['blue'] = 'azul'\n",
    "    return spanish\n",
    "\n",
    "dictionary = createDictionary()\n",
    "\n",
    "user_input = input(\"What word do you what to know in spanish?  \")\n",
    "try:\n",
    "    translation = dictionary[user_input]\n",
    "    print(\"The spanish word is: %s\" %translation)\n",
    "except KeyError:\n",
    "    print(\"Oh, sorry, that word is not in this spanish dictionary. Try another one!\")"
   ]
  },
  {
   "cell_type": "markdown",
   "metadata": {},
   "source": [
    "** Homework Task 2**: Let's revisit our \"compute_fraction\" function that came up earlier in the debugging section. As we saw with the bug, if you try to divide by zero, or you feed the function something that isn't a number, you get an error.  Your job is to add a <code>try</code> and <code>except</code> structure that will handle these two cases gracefully and let the user know what was wrong with the values they fed into the function. The function is provided below and you need to add the <code>try</code> and <code>except</code> statements to catch the errors and explain what went wrong. If you get this set up correctly, the cell below should run without dumping any of the standard Python error messages."
   ]
  },
  {
   "cell_type": "code",
   "execution_count": 8,
   "metadata": {},
   "outputs": [
    {
     "name": "stdout",
     "output_type": "stream",
     "text": [
      "Oh, sorry, the fraction 5 divided by 0 included division by zero!\n",
      "Oh, sorry, there must have been a non-float-point number. Try writing in float-point.\n",
      "The value of the fraction is 1.666667\n"
     ]
    }
   ],
   "source": [
    "def compute_fraction(numerator, denominator):\n",
    "    try:\n",
    "        fraction = numerator/denominator\n",
    "        print(\"The value of the fraction is %f\" %fraction)\n",
    "    except ZeroDivisionError:\n",
    "        print(\"Oh, sorry, the fraction \" +str(numerator) + ' divided by ' +str(denominator) + \\\n",
    "              \" included division by zero!\")\n",
    "    except TypeError:\n",
    "        print(\"Oh, sorry, there must have been a non-float-point number. Try writing in float-point.\")\n",
    "\n",
    "compute_fraction(5,0)\n",
    "compute_fraction(\"five\",3)\n",
    "compute_fraction(5,3)"
   ]
  },
  {
   "cell_type": "markdown",
   "metadata": {},
   "source": [
    "---\n",
    "### STOP\n",
    "Take a moment to save your notebook, commit the changes to your Git repository using the commit message \"Finished Part 2.2\", and push the changes to GitHub.\n",
    "\n",
    "---"
   ]
  },
  {
   "cell_type": "markdown",
   "metadata": {},
   "source": [
    "---\n",
    "## Part 3: Modeling Conway's Game of Life (12 points)\n",
    "\n",
    "Some of you may heard of Conway's Game of Life and some of you may not have. Even if you haven't heard of it, it's possible that you've seen something like it before. For details regarding thie version of the \"Game of Life\", I encourage you to take a look at the Wikipedia entry [here](https://en.wikipedia.org/wiki/Conway%27s_Game_of_Life) to get a bit of background.\n",
    "\n",
    "Conway's Game of Life is essentially a very simple agent-based model.  We'll be working more with agent-based models in the future that are more complex, so this should give you a basic sense of how one might work. Basically, the Game of Life defines a set of results that define whether or not any given cell in a grid of cells lives or dies. The rules are as follows:\n",
    "\n",
    "1. Any living cell with less than two neighbors dies\n",
    "2. Any living cell with two or three neighbors lives to the next generation\n",
    "3. Any living cell with more than three neighbors dies\n",
    "4. Any dead cell with exactly three live neighbors becomes a live cell\n",
    "\n",
    "Given the simple nature of this model, we can basically just use a collection of \"1\"s and \"0\"s to represent living and dead cells respectively. We can then set up a two-dimensional grid of cells that represent out initial population. We consider the Game of Life a \"zero player\" game because once the initial conditions are set, the population evolves itself based on the rules above. In some case the entire grid might die off, or in other you might end up with persistent populations that oscillate, or even some populations that move across the board (sometimes called \"gliders\").\n",
    "\n",
    "**Homework Task 3**:\n",
    "\n",
    "Your job is to write a program that initializes a 10x10 grid of cells and then evolves the cells for a minimum of 10 iterations (you can run it for more, but don't get too carried away!). You should build your program such that it outputs the initial state and end state into the notebook, but you should also save the files to your respository using the <code>savefig()</code> function in <code>matplotlib</code>.\n",
    "\n",
    "To ensure that your code is working, start off by initializing a grid that matches Figure 1 below and then confirm that when you run your code for ten steps, it matches the end state in Figure 2. You can also use these images as a guide for how you might want to style your plots. Plots with traditional axes don't really make sense for something like this.\n",
    "\n",
    "Once you can reproduce the results, try starting with new initial configurations and see what sort of evolution you get. Include your favorite version in this notebook.\n",
    "\n",
    "Write your code in the cell below the figures!\n",
    "\n",
    "**Extra goal**: Be careful that you don't generate too many files, but if you're feeling ambitious, I encourage you to try generating an image for each iteration and then creating an animation of your evolving system -- this is *not required* for the assignment. In order to make the animation, you might have to do a bit of googling to figure out how animations work either within a notebook, or by processing the image files you create."
   ]
  },
  {
   "cell_type": "markdown",
   "metadata": {},
   "source": [
    "**Figure 1: The beginning**\n",
    "![The beginning](https://i.imgur.com/1zVx54l.png)\n",
    "\n",
    "**Figure 2: The end**\n",
    "![title](https://i.imgur.com/GuNtZWA.png)"
   ]
  },
  {
   "cell_type": "code",
   "execution_count": 9,
   "metadata": {},
   "outputs": [
    {
     "data": {
      "image/png": "[encoded data removed]",
      "text/plain": [
       "<matplotlib.figure.Figure at 0x1f868a87748>"
      ]
     },
     "metadata": {},
     "output_type": "display_data"
    }
   ],
   "source": [
    "#\n",
    "# Put your code here!\n",
    "#\n",
    "\n",
    "import numpy as np\n",
    "import matplotlib.pyplot as plt\n",
    "%matplotlib inline\n",
    "\n",
    "\n",
    "## Initialize Grid ##\n",
    "X = np.zeros((10,10))\n",
    "plt.imshow(X)\n",
    "\n",
    "## Inilial Condtions\n",
    "[X[2,1], X[0,2], X[1,3], X[2,3], X[2,2], X[7,7], X[8,7], X[7,8], X[8,8]] = np.ones(9)\n",
    "X[0,0] = 0\n",
    "\n",
    "    \n",
    "plt.imshow(X)\n",
    "## Should we continue ##\n",
    "\n",
    "def neighborhood_pop(array, i,j):\n",
    "    \n",
    "    pop = 0\n",
    "    \n",
    "    for m in [i-1,i,i+1]:\n",
    "\n",
    "        for n in [j-1, j, j+1]:\n",
    "            \n",
    "            \n",
    "            if m == i and n == j:   #check to make sure I don't include myself\n",
    "                continue\n",
    "            if m < 0 or n < 0:\n",
    "                continue\n",
    "            if m >= np.shape(array)[0] or n >= np.shape(array)[1]:\n",
    "                continue\n",
    "            else:\n",
    "                pop += X[m,n]\n",
    "    \n",
    "    return pop\n"
   ]
  },
  {
   "cell_type": "code",
   "execution_count": 26,
   "metadata": {
    "collapsed": true
   },
   "outputs": [],
   "source": [
    "## Inilial Condtions\n",
    "def hwk_init(X):\n",
    "\n",
    "    [X[2,1], X[0,2], X[1,3], X[2,3], X[2,2], X[7,7], X[8,7], X[7,8], X[8,8]] = np.ones(9)\n",
    "    X[0,0] = 0\n",
    "    \n",
    "    return X\n",
    "\n",
    "## Initial Conditions2\n",
    "\n",
    "def random_fill(X, N=10):\n",
    "    import random\n",
    "\n",
    "    for y in np.arange(N):\n",
    "        for z in np.arange(N):\n",
    "            X[y,z] = random.randint(0,1)\n",
    "    \n",
    "    return X\n",
    "\n",
    "def X_(X, center_x, center_y):\n",
    "    c_x = center_x\n",
    "    c_y = center_y\n",
    "    \n",
    "    [X[c_x, c_y], X[c_x-1,c_y-1], X[c_x-1,c_x+1], X[c_x+1, c_y-1], X[c_x+1, c_y+1]] = np.ones(5)\n",
    "    [X[1,1], X[2,2], X[7,7], X[8,8]]\n",
    "    \n",
    "    return X\n",
    "        "
   ]
  },
  {
   "cell_type": "code",
   "execution_count": 27,
   "metadata": {},
   "outputs": [
    {
     "name": "stdout",
     "output_type": "stream",
     "text": [
      "the game of life is done\n"
     ]
    },
    {
     "data": {
      "application/pdf": "[encoded data removed]",
      "image/svg+xml": [
       "<?xml version=\"1.0\" encoding=\"utf-8\" standalone=\"no\"?>\r\n",
       "<!DOCTYPE svg PUBLIC \"-//W3C//DTD SVG 1.1//EN\"\r\n",
       "  \"http://www.w3.org/Graphics/SVG/1.1/DTD/svg11.dtd\">\r\n",
       "<!-- Created with matplotlib (http://matplotlib.org/) -->\r\n",
       "<svg height=\"252pt\" version=\"1.1\" viewBox=\"0 0 248 252\" width=\"248pt\" xmlns=\"http://www.w3.org/2000/svg\" xmlns:xlink=\"http://www.w3.org/1999/xlink\">\r\n",
       " <defs>\r\n",
       "  <style type=\"text/css\">\r\n",
       "*{stroke-linecap:butt;stroke-linejoin:round;}\r\n",
       "  </style>\r\n",
       " </defs>\r\n",
       " <g id=\"figure_1\">\r\n",
       "  <g id=\"patch_1\">\r\n",
       "   <path d=\"M 0 252.018125 \r\n",
       "L 248.7025 252.018125 \r\n",
       "L 248.7025 0 \r\n",
       "L 0 0 \r\n",
       "z\r\n",
       "\" style=\"fill:none;\"/>\r\n",
       "  </g>\r\n",
       "  <g id=\"axes_1\">\r\n",
       "   <g id=\"patch_2\">\r\n",
       "    <path d=\"M 20.5625 228.14 \r\n",
       "L 238.0025 228.14 \r\n",
       "L 238.0025 10.7 \r\n",
       "L 20.5625 10.7 \r\n",
       "z\r\n",
       "\" style=\"fill:#ffffff;\"/>\r\n",
       "   </g>\r\n",
       "   <g clip-path=\"url(#p787bf6ee4f)\">\r\n",
       "    <image height=\"218\" id=\"imagefba533ef4d\" transform=\"scale(1 -1)translate(0 -218)\" width=\"218\" x=\"20.5625\" xlink:href=\"data:image/png;base64,\r\n",
       "iVBORw0KGgoAAAANSUhEUgAAANoAAADaCAYAAADAHVzbAAAABHNCSVQICAgIfAhkiAAAAsFJREFUeJzt3DENAkEURdGFrApUIIIEA5hdF6jABlT0UMydLJwjYDLNze/e4XK4PRdgqOPsD8A/EBoEhAYBoUFAaBAQGgSEBgGhQUBoEBAaBIQGAaFBQGgQEBoEhAYBoUFAaBAQGgSEBgGhQUBoEFhnf4Dftz3us7/wsevpPORdFw0CQoOA0CAgNAgIDQJCg4DQICA0CAgNAkKDgNAgIDQICA0CQoOA0CAgNAgIDQJCg4DQICA0CAgNAkKDgNAgIDQICA0CQoOA0CAgNAgIDQJCg4DQICA0CAgNAkKDgNAgIDQICA0CQoOA0CAgNAgIDQJCg8A6+wP8vuvpPPsL07loEBAaBIQGAaFBQGgQEBoEhAYBoUFAaBAQGgSEBgGhQUBoEBAaBIQGAaFBQGgQEBoEhAYBoUFAaBCwgjXQ9rjP/sJXrFWN46JBQGgQEBoEhAYBoUFAaBAQGgSEBgGhQUBoEBAaBIQGAaFBQGgQEBoEhAYBoUFAaBAQGgSEBgGhQcAK1jJurWrUqtTe1rVw0SAhNAgIDQJCg4DQICA0CAgNAkKDgNAgIDQICA0CQoOA0CAgNAgIDQJCg4DQICA0CAgNAkKDgNAgYAVrGbdWBW8uGgSEBgGhQUBoEBAaBIQGAaFBQGgQEBoEhAYBoUFAaBAQGgSEBgGhQUBoEBAaBIQGAaFBQGgQEBoErGDtkNWu/XHRICA0CAgNAkKDgNAgIDQICA0CQoOA0CAgNAgIDQJCg4DQICA0CAgNAkKDgNAgIDQICA0CQoOA0CAgNAgIDQJCg4DQICA0CAgNAkKDgNAgIDQICA0CQoOA0CAgNAgIDQJCg4DQICA0CAgNAkKDgNAgIDQICA0CQoOA0CAgNAgIDQJCg4DQICA0CAgNAkKDgNAgIDQICA0CQoOA0CAgNAgIDQJCg4DQICA0CAgNAkKDwAsRbhB6sUCmiQAAAABJRU5ErkJggg==\" y=\"-10.14\"/>\r\n",
       "   </g>\r\n",
       "   <g id=\"matplotlib.axis_1\">\r\n",
       "    <g id=\"xtick_1\">\r\n",
       "     <g id=\"line2d_1\">\r\n",
       "      <defs>\r\n",
       "       <path d=\"M 0 0 \r\n",
       "L 0 3.5 \r\n",
       "\" id=\"m3b91f40041\" style=\"stroke:#000000;stroke-width:0.8;\"/>\r\n",
       "      </defs>\r\n",
       "      <g>\r\n",
       "       <use style=\"stroke:#000000;stroke-width:0.8;\" x=\"31.4345\" xlink:href=\"#m3b91f40041\" y=\"228.14\"/>\r\n",
       "      </g>\r\n",
       "     </g>\r\n",
       "     <g id=\"text_1\">\r\n",
       "      <!-- 0 -->\r\n",
       "      <defs>\r\n",
       "       <path d=\"M 31.78125 66.40625 \r\n",
       "Q 24.171875 66.40625 20.328125 58.90625 \r\n",
       "Q 16.5 51.421875 16.5 36.375 \r\n",
       "Q 16.5 21.390625 20.328125 13.890625 \r\n",
       "Q 24.171875 6.390625 31.78125 6.390625 \r\n",
       "Q 39.453125 6.390625 43.28125 13.890625 \r\n",
       "Q 47.125 21.390625 47.125 36.375 \r\n",
       "Q 47.125 51.421875 43.28125 58.90625 \r\n",
       "Q 39.453125 66.40625 31.78125 66.40625 \r\n",
       "z\r\n",
       "M 31.78125 74.21875 \r\n",
       "Q 44.046875 74.21875 50.515625 64.515625 \r\n",
       "Q 56.984375 54.828125 56.984375 36.375 \r\n",
       "Q 56.984375 17.96875 50.515625 8.265625 \r\n",
       "Q 44.046875 -1.421875 31.78125 -1.421875 \r\n",
       "Q 19.53125 -1.421875 13.0625 8.265625 \r\n",
       "Q 6.59375 17.96875 6.59375 36.375 \r\n",
       "Q 6.59375 54.828125 13.0625 64.515625 \r\n",
       "Q 19.53125 74.21875 31.78125 74.21875 \r\n",
       "z\r\n",
       "\" id=\"DejaVuSans-30\"/>\r\n",
       "      </defs>\r\n",
       "      <g transform=\"translate(28.25325 242.738437)scale(0.1 -0.1)\">\r\n",
       "       <use xlink:href=\"#DejaVuSans-30\"/>\r\n",
       "      </g>\r\n",
       "     </g>\r\n",
       "    </g>\r\n",
       "    <g id=\"xtick_2\">\r\n",
       "     <g id=\"line2d_2\">\r\n",
       "      <g>\r\n",
       "       <use style=\"stroke:#000000;stroke-width:0.8;\" x=\"74.9225\" xlink:href=\"#m3b91f40041\" y=\"228.14\"/>\r\n",
       "      </g>\r\n",
       "     </g>\r\n",
       "     <g id=\"text_2\">\r\n",
       "      <!-- 2 -->\r\n",
       "      <defs>\r\n",
       "       <path d=\"M 19.1875 8.296875 \r\n",
       "L 53.609375 8.296875 \r\n",
       "L 53.609375 0 \r\n",
       "L 7.328125 0 \r\n",
       "L 7.328125 8.296875 \r\n",
       "Q 12.9375 14.109375 22.625 23.890625 \r\n",
       "Q 32.328125 33.6875 34.8125 36.53125 \r\n",
       "Q 39.546875 41.84375 41.421875 45.53125 \r\n",
       "Q 43.3125 49.21875 43.3125 52.78125 \r\n",
       "Q 43.3125 58.59375 39.234375 62.25 \r\n",
       "Q 35.15625 65.921875 28.609375 65.921875 \r\n",
       "Q 23.96875 65.921875 18.8125 64.3125 \r\n",
       "Q 13.671875 62.703125 7.8125 59.421875 \r\n",
       "L 7.8125 69.390625 \r\n",
       "Q 13.765625 71.78125 18.9375 73 \r\n",
       "Q 24.125 74.21875 28.421875 74.21875 \r\n",
       "Q 39.75 74.21875 46.484375 68.546875 \r\n",
       "Q 53.21875 62.890625 53.21875 53.421875 \r\n",
       "Q 53.21875 48.921875 51.53125 44.890625 \r\n",
       "Q 49.859375 40.875 45.40625 35.40625 \r\n",
       "Q 44.1875 33.984375 37.640625 27.21875 \r\n",
       "Q 31.109375 20.453125 19.1875 8.296875 \r\n",
       "z\r\n",
       "\" id=\"DejaVuSans-32\"/>\r\n",
       "      </defs>\r\n",
       "      <g transform=\"translate(71.74125 242.738437)scale(0.1 -0.1)\">\r\n",
       "       <use xlink:href=\"#DejaVuSans-32\"/>\r\n",
       "      </g>\r\n",
       "     </g>\r\n",
       "    </g>\r\n",
       "    <g id=\"xtick_3\">\r\n",
       "     <g id=\"line2d_3\">\r\n",
       "      <g>\r\n",
       "       <use style=\"stroke:#000000;stroke-width:0.8;\" x=\"118.4105\" xlink:href=\"#m3b91f40041\" y=\"228.14\"/>\r\n",
       "      </g>\r\n",
       "     </g>\r\n",
       "     <g id=\"text_3\">\r\n",
       "      <!-- 4 -->\r\n",
       "      <defs>\r\n",
       "       <path d=\"M 37.796875 64.3125 \r\n",
       "L 12.890625 25.390625 \r\n",
       "L 37.796875 25.390625 \r\n",
       "z\r\n",
       "M 35.203125 72.90625 \r\n",
       "L 47.609375 72.90625 \r\n",
       "L 47.609375 25.390625 \r\n",
       "L 58.015625 25.390625 \r\n",
       "L 58.015625 17.1875 \r\n",
       "L 47.609375 17.1875 \r\n",
       "L 47.609375 0 \r\n",
       "L 37.796875 0 \r\n",
       "L 37.796875 17.1875 \r\n",
       "L 4.890625 17.1875 \r\n",
       "L 4.890625 26.703125 \r\n",
       "z\r\n",
       "\" id=\"DejaVuSans-34\"/>\r\n",
       "      </defs>\r\n",
       "      <g transform=\"translate(115.22925 242.738437)scale(0.1 -0.1)\">\r\n",
       "       <use xlink:href=\"#DejaVuSans-34\"/>\r\n",
       "      </g>\r\n",
       "     </g>\r\n",
       "    </g>\r\n",
       "    <g id=\"xtick_4\">\r\n",
       "     <g id=\"line2d_4\">\r\n",
       "      <g>\r\n",
       "       <use style=\"stroke:#000000;stroke-width:0.8;\" x=\"161.8985\" xlink:href=\"#m3b91f40041\" y=\"228.14\"/>\r\n",
       "      </g>\r\n",
       "     </g>\r\n",
       "     <g id=\"text_4\">\r\n",
       "      <!-- 6 -->\r\n",
       "      <defs>\r\n",
       "       <path d=\"M 33.015625 40.375 \r\n",
       "Q 26.375 40.375 22.484375 35.828125 \r\n",
       "Q 18.609375 31.296875 18.609375 23.390625 \r\n",
       "Q 18.609375 15.53125 22.484375 10.953125 \r\n",
       "Q 26.375 6.390625 33.015625 6.390625 \r\n",
       "Q 39.65625 6.390625 43.53125 10.953125 \r\n",
       "Q 47.40625 15.53125 47.40625 23.390625 \r\n",
       "Q 47.40625 31.296875 43.53125 35.828125 \r\n",
       "Q 39.65625 40.375 33.015625 40.375 \r\n",
       "z\r\n",
       "M 52.59375 71.296875 \r\n",
       "L 52.59375 62.3125 \r\n",
       "Q 48.875 64.0625 45.09375 64.984375 \r\n",
       "Q 41.3125 65.921875 37.59375 65.921875 \r\n",
       "Q 27.828125 65.921875 22.671875 59.328125 \r\n",
       "Q 17.53125 52.734375 16.796875 39.40625 \r\n",
       "Q 19.671875 43.65625 24.015625 45.921875 \r\n",
       "Q 28.375 48.1875 33.59375 48.1875 \r\n",
       "Q 44.578125 48.1875 50.953125 41.515625 \r\n",
       "Q 57.328125 34.859375 57.328125 23.390625 \r\n",
       "Q 57.328125 12.15625 50.6875 5.359375 \r\n",
       "Q 44.046875 -1.421875 33.015625 -1.421875 \r\n",
       "Q 20.359375 -1.421875 13.671875 8.265625 \r\n",
       "Q 6.984375 17.96875 6.984375 36.375 \r\n",
       "Q 6.984375 53.65625 15.1875 63.9375 \r\n",
       "Q 23.390625 74.21875 37.203125 74.21875 \r\n",
       "Q 40.921875 74.21875 44.703125 73.484375 \r\n",
       "Q 48.484375 72.75 52.59375 71.296875 \r\n",
       "z\r\n",
       "\" id=\"DejaVuSans-36\"/>\r\n",
       "      </defs>\r\n",
       "      <g transform=\"translate(158.71725 242.738437)scale(0.1 -0.1)\">\r\n",
       "       <use xlink:href=\"#DejaVuSans-36\"/>\r\n",
       "      </g>\r\n",
       "     </g>\r\n",
       "    </g>\r\n",
       "    <g id=\"xtick_5\">\r\n",
       "     <g id=\"line2d_5\">\r\n",
       "      <g>\r\n",
       "       <use style=\"stroke:#000000;stroke-width:0.8;\" x=\"205.3865\" xlink:href=\"#m3b91f40041\" y=\"228.14\"/>\r\n",
       "      </g>\r\n",
       "     </g>\r\n",
       "     <g id=\"text_5\">\r\n",
       "      <!-- 8 -->\r\n",
       "      <defs>\r\n",
       "       <path d=\"M 31.78125 34.625 \r\n",
       "Q 24.75 34.625 20.71875 30.859375 \r\n",
       "Q 16.703125 27.09375 16.703125 20.515625 \r\n",
       "Q 16.703125 13.921875 20.71875 10.15625 \r\n",
       "Q 24.75 6.390625 31.78125 6.390625 \r\n",
       "Q 38.8125 6.390625 42.859375 10.171875 \r\n",
       "Q 46.921875 13.96875 46.921875 20.515625 \r\n",
       "Q 46.921875 27.09375 42.890625 30.859375 \r\n",
       "Q 38.875 34.625 31.78125 34.625 \r\n",
       "z\r\n",
       "M 21.921875 38.8125 \r\n",
       "Q 15.578125 40.375 12.03125 44.71875 \r\n",
       "Q 8.5 49.078125 8.5 55.328125 \r\n",
       "Q 8.5 64.0625 14.71875 69.140625 \r\n",
       "Q 20.953125 74.21875 31.78125 74.21875 \r\n",
       "Q 42.671875 74.21875 48.875 69.140625 \r\n",
       "Q 55.078125 64.0625 55.078125 55.328125 \r\n",
       "Q 55.078125 49.078125 51.53125 44.71875 \r\n",
       "Q 48 40.375 41.703125 38.8125 \r\n",
       "Q 48.828125 37.15625 52.796875 32.3125 \r\n",
       "Q 56.78125 27.484375 56.78125 20.515625 \r\n",
       "Q 56.78125 9.90625 50.3125 4.234375 \r\n",
       "Q 43.84375 -1.421875 31.78125 -1.421875 \r\n",
       "Q 19.734375 -1.421875 13.25 4.234375 \r\n",
       "Q 6.78125 9.90625 6.78125 20.515625 \r\n",
       "Q 6.78125 27.484375 10.78125 32.3125 \r\n",
       "Q 14.796875 37.15625 21.921875 38.8125 \r\n",
       "z\r\n",
       "M 18.3125 54.390625 \r\n",
       "Q 18.3125 48.734375 21.84375 45.5625 \r\n",
       "Q 25.390625 42.390625 31.78125 42.390625 \r\n",
       "Q 38.140625 42.390625 41.71875 45.5625 \r\n",
       "Q 45.3125 48.734375 45.3125 54.390625 \r\n",
       "Q 45.3125 60.0625 41.71875 63.234375 \r\n",
       "Q 38.140625 66.40625 31.78125 66.40625 \r\n",
       "Q 25.390625 66.40625 21.84375 63.234375 \r\n",
       "Q 18.3125 60.0625 18.3125 54.390625 \r\n",
       "z\r\n",
       "\" id=\"DejaVuSans-38\"/>\r\n",
       "      </defs>\r\n",
       "      <g transform=\"translate(202.20525 242.738437)scale(0.1 -0.1)\">\r\n",
       "       <use xlink:href=\"#DejaVuSans-38\"/>\r\n",
       "      </g>\r\n",
       "     </g>\r\n",
       "    </g>\r\n",
       "   </g>\r\n",
       "   <g id=\"matplotlib.axis_2\">\r\n",
       "    <g id=\"ytick_1\">\r\n",
       "     <g id=\"line2d_6\">\r\n",
       "      <defs>\r\n",
       "       <path d=\"M 0 0 \r\n",
       "L -3.5 0 \r\n",
       "\" id=\"m82e3008e95\" style=\"stroke:#000000;stroke-width:0.8;\"/>\r\n",
       "      </defs>\r\n",
       "      <g>\r\n",
       "       <use style=\"stroke:#000000;stroke-width:0.8;\" x=\"20.5625\" xlink:href=\"#m82e3008e95\" y=\"21.572\"/>\r\n",
       "      </g>\r\n",
       "     </g>\r\n",
       "     <g id=\"text_6\">\r\n",
       "      <!-- 0 -->\r\n",
       "      <g transform=\"translate(7.2 25.371219)scale(0.1 -0.1)\">\r\n",
       "       <use xlink:href=\"#DejaVuSans-30\"/>\r\n",
       "      </g>\r\n",
       "     </g>\r\n",
       "    </g>\r\n",
       "    <g id=\"ytick_2\">\r\n",
       "     <g id=\"line2d_7\">\r\n",
       "      <g>\r\n",
       "       <use style=\"stroke:#000000;stroke-width:0.8;\" x=\"20.5625\" xlink:href=\"#m82e3008e95\" y=\"65.06\"/>\r\n",
       "      </g>\r\n",
       "     </g>\r\n",
       "     <g id=\"text_7\">\r\n",
       "      <!-- 2 -->\r\n",
       "      <g transform=\"translate(7.2 68.859219)scale(0.1 -0.1)\">\r\n",
       "       <use xlink:href=\"#DejaVuSans-32\"/>\r\n",
       "      </g>\r\n",
       "     </g>\r\n",
       "    </g>\r\n",
       "    <g id=\"ytick_3\">\r\n",
       "     <g id=\"line2d_8\">\r\n",
       "      <g>\r\n",
       "       <use style=\"stroke:#000000;stroke-width:0.8;\" x=\"20.5625\" xlink:href=\"#m82e3008e95\" y=\"108.548\"/>\r\n",
       "      </g>\r\n",
       "     </g>\r\n",
       "     <g id=\"text_8\">\r\n",
       "      <!-- 4 -->\r\n",
       "      <g transform=\"translate(7.2 112.347219)scale(0.1 -0.1)\">\r\n",
       "       <use xlink:href=\"#DejaVuSans-34\"/>\r\n",
       "      </g>\r\n",
       "     </g>\r\n",
       "    </g>\r\n",
       "    <g id=\"ytick_4\">\r\n",
       "     <g id=\"line2d_9\">\r\n",
       "      <g>\r\n",
       "       <use style=\"stroke:#000000;stroke-width:0.8;\" x=\"20.5625\" xlink:href=\"#m82e3008e95\" y=\"152.036\"/>\r\n",
       "      </g>\r\n",
       "     </g>\r\n",
       "     <g id=\"text_9\">\r\n",
       "      <!-- 6 -->\r\n",
       "      <g transform=\"translate(7.2 155.835219)scale(0.1 -0.1)\">\r\n",
       "       <use xlink:href=\"#DejaVuSans-36\"/>\r\n",
       "      </g>\r\n",
       "     </g>\r\n",
       "    </g>\r\n",
       "    <g id=\"ytick_5\">\r\n",
       "     <g id=\"line2d_10\">\r\n",
       "      <g>\r\n",
       "       <use style=\"stroke:#000000;stroke-width:0.8;\" x=\"20.5625\" xlink:href=\"#m82e3008e95\" y=\"195.524\"/>\r\n",
       "      </g>\r\n",
       "     </g>\r\n",
       "     <g id=\"text_10\">\r\n",
       "      <!-- 8 -->\r\n",
       "      <g transform=\"translate(7.2 199.323219)scale(0.1 -0.1)\">\r\n",
       "       <use xlink:href=\"#DejaVuSans-38\"/>\r\n",
       "      </g>\r\n",
       "     </g>\r\n",
       "    </g>\r\n",
       "   </g>\r\n",
       "   <g id=\"patch_3\">\r\n",
       "    <path d=\"M 20.5625 228.14 \r\n",
       "L 20.5625 10.7 \r\n",
       "\" style=\"fill:none;stroke:#000000;stroke-linecap:square;stroke-linejoin:miter;stroke-width:0.8;\"/>\r\n",
       "   </g>\r\n",
       "   <g id=\"patch_4\">\r\n",
       "    <path d=\"M 238.0025 228.14 \r\n",
       "L 238.0025 10.7 \r\n",
       "\" style=\"fill:none;stroke:#000000;stroke-linecap:square;stroke-linejoin:miter;stroke-width:0.8;\"/>\r\n",
       "   </g>\r\n",
       "   <g id=\"patch_5\">\r\n",
       "    <path d=\"M 20.5625 228.14 \r\n",
       "L 238.0025 228.14 \r\n",
       "\" style=\"fill:none;stroke:#000000;stroke-linecap:square;stroke-linejoin:miter;stroke-width:0.8;\"/>\r\n",
       "   </g>\r\n",
       "   <g id=\"patch_6\">\r\n",
       "    <path d=\"M 20.5625 10.7 \r\n",
       "L 238.0025 10.7 \r\n",
       "\" style=\"fill:none;stroke:#000000;stroke-linecap:square;stroke-linejoin:miter;stroke-width:0.8;\"/>\r\n",
       "   </g>\r\n",
       "  </g>\r\n",
       " </g>\r\n",
       " <defs>\r\n",
       "  <clipPath id=\"p787bf6ee4f\">\r\n",
       "   <rect height=\"217.44\" width=\"217.44\" x=\"20.5625\" y=\"10.7\"/>\r\n",
       "  </clipPath>\r\n",
       " </defs>\r\n",
       "</svg>\r\n"
      ],
      "text/plain": [
       "<matplotlib.figure.Figure at 0x1f869c6fa20>"
      ]
     },
     "metadata": {},
     "output_type": "display_data"
    }
   ],
   "source": [
    "from copy import deepcopy\n",
    "import time\n",
    "from IPython.display import display, clear_output, set_matplotlib_formats\n",
    "set_matplotlib_formats('pdf', 'svg')\n",
    "from IPython.core.display import Image, display\n",
    "\n",
    "## Initialize Grid ##\n",
    "X = np.zeros((10,10))\n",
    "\n",
    "X = hwk_init(X)\n",
    "#X = X_(X, 5,5)\n",
    "plt.imshow(X)\n",
    "## Should we continue ##\n",
    "\n",
    "### The Actual Function\n",
    "\n",
    "# RULES:\n",
    "\n",
    "#Any living cell with less than two neighbors dies\n",
    "#Any living cell with two or three neighbors lives to the next generation\n",
    "#Any living cell with more than three neighbors dies\n",
    "#Any dead cell with exactly three live neighbors becomes a live cell1.\n",
    "\n",
    "# ONE STEP:\n",
    "\n",
    "# RUN N STEPS\n",
    "GEN = 10\n",
    "N = 10\n",
    "PAUSE_BETWEEN_STEPS = False\n",
    "wait_time = 0.05\n",
    "\n",
    "animate = False\n",
    "save_file = ''\n",
    "\n",
    "\n",
    "for step in range(GEN):\n",
    "    \n",
    "    Y = np.zeros((N,N))\n",
    "    \n",
    "    for n in range(N):\n",
    "        for m in range(N):\n",
    "            \n",
    "            pop = neighborhood_pop(X, m, n)\n",
    "    \n",
    "        # RULE 1 A LIVING CELL WITH LESS THAN TWO NEIGHBORS DIE\n",
    "        # RULE 3 ANY LIVING CELL WITH MORE THAN THREE NEIGHBORS DIES\n",
    "            if pop < 2 or pop > 3:\n",
    "                Y[m,n] = 0\n",
    "\n",
    "        # RULE 2 ANY LIVING CELL WITH TWO OR THREE NEIGHBORS LIVES ON TO NEXT GEN\n",
    "            if pop >= 2 and pop <= 3:\n",
    "                if X[m,n] == 1:\n",
    "                    Y[m,n] = 1\n",
    "\n",
    "        # RULE 4 ANY DEAD CELL WITH EXACTLY THREE LIVE NEIGHBORS BECOMES A LIVE CELL\n",
    "                if pop == 3 and X[m,n] == 0:\n",
    "                    Y[m,n] = 1\n",
    "    \n",
    "    X = deepcopy(Y)\n",
    "    \n",
    "    plt.imshow(X)\n",
    "    plt.show()\n",
    "    \n",
    "        \n",
    "    if animate == True:\n",
    "        plt.savefig(save_file + '.anim_' + str(SAVE) + '.png')\n",
    "        SAVE += 1\n",
    "    \n",
    "    time.sleep(wait_time) # set waiting time\n",
    "    clear_output(wait = True)\n",
    "    \n",
    "plt.imshow(X)\n",
    "    \n",
    "    \n",
    "print('the game of life is done')"
   ]
  },
  {
   "cell_type": "markdown",
   "metadata": {},
   "source": [
    "---\n",
    "\n",
    "### STOP\n",
    "Take a moment to save your notebook, commit the changes to your Git repository using the commit message \"Finished Part 3\", and push the changes to GitHub. You should also add a few representative images to your repository to show that your code works.\n",
    "\n",
    "---"
   ]
  },
  {
   "cell_type": "markdown",
   "metadata": {},
   "source": [
    "---\n",
    "## Assignment wrap-up\n",
    "\n",
    "Please fill out the form that appears when you run the code below.  **You must completely fill this out in order to receive credit for the assignment!**"
   ]
  },
  {
   "cell_type": "code",
   "execution_count": 11,
   "metadata": {},
   "outputs": [
    {
     "data": {
      "text/html": [
       "\n",
       "<iframe \n",
       "\tsrc=\"https://goo.gl/forms/rRqbVfls0YDFTONb2\" \n",
       "\twidth=\"80%\" \n",
       "\theight=\"1200px\" \n",
       "\tframeborder=\"0\" \n",
       "\tmarginheight=\"0\" \n",
       "\tmarginwidth=\"0\">\n",
       "\tLoading...\n",
       "</iframe>\n"
      ],
      "text/plain": [
       "<IPython.core.display.HTML object>"
      ]
     },
     "execution_count": 11,
     "metadata": {},
     "output_type": "execute_result"
    }
   ],
   "source": [
    "from IPython.display import HTML\n",
    "HTML(\n",
    "\"\"\"\n",
    "<iframe \n",
    "\tsrc=\"https://goo.gl/forms/rRqbVfls0YDFTONb2\" \n",
    "\twidth=\"80%\" \n",
    "\theight=\"1200px\" \n",
    "\tframeborder=\"0\" \n",
    "\tmarginheight=\"0\" \n",
    "\tmarginwidth=\"0\">\n",
    "\tLoading...\n",
    "</iframe>\n",
    "\"\"\"\n",
    ")"
   ]
  },
  {
   "cell_type": "markdown",
   "metadata": {},
   "source": [
    "### Congratulations, you're done!\n",
    "\n",
    "Submit this assignment by uploading it to the course Desire2Learn web page.  Go to the \"Homework Assignments\" folder, find the dropbox link for Homework #1, and upload it there."
   ]
  }
 ],
 "metadata": {
  "anaconda-cloud": {},
  "kernelspec": {
   "display_name": "Python 3",
   "language": "python",
   "name": "python3"
  },
  "language_info": {
   "codemirror_mode": {
    "name": "ipython",
    "version": 3
   },
   "file_extension": ".py",
   "mimetype": "text/x-python",
   "name": "python",
   "nbconvert_exporter": "python",
   "pygments_lexer": "ipython3",
   "version": "3.6.1"
  }
 },
 "nbformat": 4,
 "nbformat_minor": 2
}
